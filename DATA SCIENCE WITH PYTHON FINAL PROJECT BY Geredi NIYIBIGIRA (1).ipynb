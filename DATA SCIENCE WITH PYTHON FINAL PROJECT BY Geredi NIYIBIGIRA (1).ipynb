{
 "cells": [
  {
   "cell_type": "code",
   "execution_count": 1,
   "id": "5573b068",
   "metadata": {},
   "outputs": [
    {
     "name": "stdout",
     "output_type": "stream",
     "text": [
      "Note: you may need to restart the kernel to use updated packages.\n"
     ]
    },
    {
     "name": "stderr",
     "output_type": "stream",
     "text": [
      "ERROR: Could not find a version that satisfies the requirement chromium (from versions: none)\n",
      "ERROR: No matching distribution found for chromium\n",
      "\n",
      "[notice] A new release of pip available: 22.2.2 -> 22.3.1\n",
      "[notice] To update, run: python.exe -m pip install --upgrade pip\n"
     ]
    }
   ],
   "source": [
    "pip install chromium"
   ]
  },
  {
   "cell_type": "code",
   "execution_count": 77,
   "id": "4c591e0b",
   "metadata": {},
   "outputs": [],
   "source": [
    "import pandas as pd\n",
    "import numpy as np\n",
    "import matplotlib.pyplot as plt\n",
    "import seaborn as sns\n",
    "%matplotlib inline\n",
    "correlations = df.corr() \n",
    "\n"
   ]
  },
  {
   "cell_type": "code",
   "execution_count": 9,
   "id": "7581ceab",
   "metadata": {},
   "outputs": [],
   "source": [
    "df= pd.read_csv('C:/Users/Teacher/Downloads/WA_Fn-UseC_-HR-Employee-Attrition.csv')"
   ]
  },
  {
   "cell_type": "code",
   "execution_count": 10,
   "id": "a77311e6",
   "metadata": {},
   "outputs": [
    {
     "data": {
      "text/html": [
       "<div>\n",
       "<style scoped>\n",
       "    .dataframe tbody tr th:only-of-type {\n",
       "        vertical-align: middle;\n",
       "    }\n",
       "\n",
       "    .dataframe tbody tr th {\n",
       "        vertical-align: top;\n",
       "    }\n",
       "\n",
       "    .dataframe thead th {\n",
       "        text-align: right;\n",
       "    }\n",
       "</style>\n",
       "<table border=\"1\" class=\"dataframe\">\n",
       "  <thead>\n",
       "    <tr style=\"text-align: right;\">\n",
       "      <th></th>\n",
       "      <th>Age</th>\n",
       "      <th>Attrition</th>\n",
       "      <th>BusinessTravel</th>\n",
       "      <th>DailyRate</th>\n",
       "      <th>Department</th>\n",
       "      <th>DistanceFromHome</th>\n",
       "      <th>Education</th>\n",
       "      <th>EducationField</th>\n",
       "      <th>EmployeeCount</th>\n",
       "      <th>EmployeeNumber</th>\n",
       "      <th>...</th>\n",
       "      <th>RelationshipSatisfaction</th>\n",
       "      <th>StandardHours</th>\n",
       "      <th>StockOptionLevel</th>\n",
       "      <th>TotalWorkingYears</th>\n",
       "      <th>TrainingTimesLastYear</th>\n",
       "      <th>WorkLifeBalance</th>\n",
       "      <th>YearsAtCompany</th>\n",
       "      <th>YearsInCurrentRole</th>\n",
       "      <th>YearsSinceLastPromotion</th>\n",
       "      <th>YearsWithCurrManager</th>\n",
       "    </tr>\n",
       "  </thead>\n",
       "  <tbody>\n",
       "    <tr>\n",
       "      <th>0</th>\n",
       "      <td>41</td>\n",
       "      <td>Yes</td>\n",
       "      <td>Travel_Rarely</td>\n",
       "      <td>1102</td>\n",
       "      <td>Sales</td>\n",
       "      <td>1</td>\n",
       "      <td>2</td>\n",
       "      <td>Life Sciences</td>\n",
       "      <td>1</td>\n",
       "      <td>1</td>\n",
       "      <td>...</td>\n",
       "      <td>1</td>\n",
       "      <td>80</td>\n",
       "      <td>0</td>\n",
       "      <td>8</td>\n",
       "      <td>0</td>\n",
       "      <td>1</td>\n",
       "      <td>6</td>\n",
       "      <td>4</td>\n",
       "      <td>0</td>\n",
       "      <td>5</td>\n",
       "    </tr>\n",
       "    <tr>\n",
       "      <th>1</th>\n",
       "      <td>49</td>\n",
       "      <td>No</td>\n",
       "      <td>Travel_Frequently</td>\n",
       "      <td>279</td>\n",
       "      <td>Research &amp; Development</td>\n",
       "      <td>8</td>\n",
       "      <td>1</td>\n",
       "      <td>Life Sciences</td>\n",
       "      <td>1</td>\n",
       "      <td>2</td>\n",
       "      <td>...</td>\n",
       "      <td>4</td>\n",
       "      <td>80</td>\n",
       "      <td>1</td>\n",
       "      <td>10</td>\n",
       "      <td>3</td>\n",
       "      <td>3</td>\n",
       "      <td>10</td>\n",
       "      <td>7</td>\n",
       "      <td>1</td>\n",
       "      <td>7</td>\n",
       "    </tr>\n",
       "    <tr>\n",
       "      <th>2</th>\n",
       "      <td>37</td>\n",
       "      <td>Yes</td>\n",
       "      <td>Travel_Rarely</td>\n",
       "      <td>1373</td>\n",
       "      <td>Research &amp; Development</td>\n",
       "      <td>2</td>\n",
       "      <td>2</td>\n",
       "      <td>Other</td>\n",
       "      <td>1</td>\n",
       "      <td>4</td>\n",
       "      <td>...</td>\n",
       "      <td>2</td>\n",
       "      <td>80</td>\n",
       "      <td>0</td>\n",
       "      <td>7</td>\n",
       "      <td>3</td>\n",
       "      <td>3</td>\n",
       "      <td>0</td>\n",
       "      <td>0</td>\n",
       "      <td>0</td>\n",
       "      <td>0</td>\n",
       "    </tr>\n",
       "    <tr>\n",
       "      <th>3</th>\n",
       "      <td>33</td>\n",
       "      <td>No</td>\n",
       "      <td>Travel_Frequently</td>\n",
       "      <td>1392</td>\n",
       "      <td>Research &amp; Development</td>\n",
       "      <td>3</td>\n",
       "      <td>4</td>\n",
       "      <td>Life Sciences</td>\n",
       "      <td>1</td>\n",
       "      <td>5</td>\n",
       "      <td>...</td>\n",
       "      <td>3</td>\n",
       "      <td>80</td>\n",
       "      <td>0</td>\n",
       "      <td>8</td>\n",
       "      <td>3</td>\n",
       "      <td>3</td>\n",
       "      <td>8</td>\n",
       "      <td>7</td>\n",
       "      <td>3</td>\n",
       "      <td>0</td>\n",
       "    </tr>\n",
       "    <tr>\n",
       "      <th>4</th>\n",
       "      <td>27</td>\n",
       "      <td>No</td>\n",
       "      <td>Travel_Rarely</td>\n",
       "      <td>591</td>\n",
       "      <td>Research &amp; Development</td>\n",
       "      <td>2</td>\n",
       "      <td>1</td>\n",
       "      <td>Medical</td>\n",
       "      <td>1</td>\n",
       "      <td>7</td>\n",
       "      <td>...</td>\n",
       "      <td>4</td>\n",
       "      <td>80</td>\n",
       "      <td>1</td>\n",
       "      <td>6</td>\n",
       "      <td>3</td>\n",
       "      <td>3</td>\n",
       "      <td>2</td>\n",
       "      <td>2</td>\n",
       "      <td>2</td>\n",
       "      <td>2</td>\n",
       "    </tr>\n",
       "  </tbody>\n",
       "</table>\n",
       "<p>5 rows × 35 columns</p>\n",
       "</div>"
      ],
      "text/plain": [
       "   Age Attrition     BusinessTravel  DailyRate              Department  \\\n",
       "0   41       Yes      Travel_Rarely       1102                   Sales   \n",
       "1   49        No  Travel_Frequently        279  Research & Development   \n",
       "2   37       Yes      Travel_Rarely       1373  Research & Development   \n",
       "3   33        No  Travel_Frequently       1392  Research & Development   \n",
       "4   27        No      Travel_Rarely        591  Research & Development   \n",
       "\n",
       "   DistanceFromHome  Education EducationField  EmployeeCount  EmployeeNumber  \\\n",
       "0                 1          2  Life Sciences              1               1   \n",
       "1                 8          1  Life Sciences              1               2   \n",
       "2                 2          2          Other              1               4   \n",
       "3                 3          4  Life Sciences              1               5   \n",
       "4                 2          1        Medical              1               7   \n",
       "\n",
       "   ...  RelationshipSatisfaction StandardHours  StockOptionLevel  \\\n",
       "0  ...                         1            80                 0   \n",
       "1  ...                         4            80                 1   \n",
       "2  ...                         2            80                 0   \n",
       "3  ...                         3            80                 0   \n",
       "4  ...                         4            80                 1   \n",
       "\n",
       "   TotalWorkingYears  TrainingTimesLastYear WorkLifeBalance  YearsAtCompany  \\\n",
       "0                  8                      0               1               6   \n",
       "1                 10                      3               3              10   \n",
       "2                  7                      3               3               0   \n",
       "3                  8                      3               3               8   \n",
       "4                  6                      3               3               2   \n",
       "\n",
       "  YearsInCurrentRole  YearsSinceLastPromotion  YearsWithCurrManager  \n",
       "0                  4                        0                     5  \n",
       "1                  7                        1                     7  \n",
       "2                  0                        0                     0  \n",
       "3                  7                        3                     0  \n",
       "4                  2                        2                     2  \n",
       "\n",
       "[5 rows x 35 columns]"
      ]
     },
     "execution_count": 10,
     "metadata": {},
     "output_type": "execute_result"
    }
   ],
   "source": [
    "df.head()"
   ]
  },
  {
   "cell_type": "code",
   "execution_count": 11,
   "id": "09c26587",
   "metadata": {},
   "outputs": [
    {
     "name": "stdout",
     "output_type": "stream",
     "text": [
      "<class 'pandas.core.frame.DataFrame'>\n",
      "RangeIndex: 1470 entries, 0 to 1469\n",
      "Data columns (total 35 columns):\n",
      " #   Column                    Non-Null Count  Dtype \n",
      "---  ------                    --------------  ----- \n",
      " 0   Age                       1470 non-null   int64 \n",
      " 1   Attrition                 1470 non-null   object\n",
      " 2   BusinessTravel            1470 non-null   object\n",
      " 3   DailyRate                 1470 non-null   int64 \n",
      " 4   Department                1470 non-null   object\n",
      " 5   DistanceFromHome          1470 non-null   int64 \n",
      " 6   Education                 1470 non-null   int64 \n",
      " 7   EducationField            1470 non-null   object\n",
      " 8   EmployeeCount             1470 non-null   int64 \n",
      " 9   EmployeeNumber            1470 non-null   int64 \n",
      " 10  EnvironmentSatisfaction   1470 non-null   int64 \n",
      " 11  Gender                    1470 non-null   object\n",
      " 12  HourlyRate                1470 non-null   int64 \n",
      " 13  JobInvolvement            1470 non-null   int64 \n",
      " 14  JobLevel                  1470 non-null   int64 \n",
      " 15  JobRole                   1470 non-null   object\n",
      " 16  JobSatisfaction           1470 non-null   int64 \n",
      " 17  MaritalStatus             1470 non-null   object\n",
      " 18  MonthlyIncome             1470 non-null   int64 \n",
      " 19  MonthlyRate               1470 non-null   int64 \n",
      " 20  NumCompaniesWorked        1470 non-null   int64 \n",
      " 21  Over18                    1470 non-null   object\n",
      " 22  OverTime                  1470 non-null   object\n",
      " 23  PercentSalaryHike         1470 non-null   int64 \n",
      " 24  PerformanceRating         1470 non-null   int64 \n",
      " 25  RelationshipSatisfaction  1470 non-null   int64 \n",
      " 26  StandardHours             1470 non-null   int64 \n",
      " 27  StockOptionLevel          1470 non-null   int64 \n",
      " 28  TotalWorkingYears         1470 non-null   int64 \n",
      " 29  TrainingTimesLastYear     1470 non-null   int64 \n",
      " 30  WorkLifeBalance           1470 non-null   int64 \n",
      " 31  YearsAtCompany            1470 non-null   int64 \n",
      " 32  YearsInCurrentRole        1470 non-null   int64 \n",
      " 33  YearsSinceLastPromotion   1470 non-null   int64 \n",
      " 34  YearsWithCurrManager      1470 non-null   int64 \n",
      "dtypes: int64(26), object(9)\n",
      "memory usage: 402.1+ KB\n"
     ]
    }
   ],
   "source": [
    "df.info()"
   ]
  },
  {
   "cell_type": "code",
   "execution_count": 13,
   "id": "1aa3b3c0",
   "metadata": {},
   "outputs": [
    {
     "data": {
      "text/plain": [
       "(1470, 35)"
      ]
     },
     "execution_count": 13,
     "metadata": {},
     "output_type": "execute_result"
    }
   ],
   "source": [
    "df.shape"
   ]
  },
  {
   "cell_type": "code",
   "execution_count": 14,
   "id": "5fdf3a7e",
   "metadata": {},
   "outputs": [
    {
     "data": {
      "text/plain": [
       "Age                          int64\n",
       "Attrition                   object\n",
       "BusinessTravel              object\n",
       "DailyRate                    int64\n",
       "Department                  object\n",
       "DistanceFromHome             int64\n",
       "Education                    int64\n",
       "EducationField              object\n",
       "EmployeeCount                int64\n",
       "EmployeeNumber               int64\n",
       "EnvironmentSatisfaction      int64\n",
       "Gender                      object\n",
       "HourlyRate                   int64\n",
       "JobInvolvement               int64\n",
       "JobLevel                     int64\n",
       "JobRole                     object\n",
       "JobSatisfaction              int64\n",
       "MaritalStatus               object\n",
       "MonthlyIncome                int64\n",
       "MonthlyRate                  int64\n",
       "NumCompaniesWorked           int64\n",
       "Over18                      object\n",
       "OverTime                    object\n",
       "PercentSalaryHike            int64\n",
       "PerformanceRating            int64\n",
       "RelationshipSatisfaction     int64\n",
       "StandardHours                int64\n",
       "StockOptionLevel             int64\n",
       "TotalWorkingYears            int64\n",
       "TrainingTimesLastYear        int64\n",
       "WorkLifeBalance              int64\n",
       "YearsAtCompany               int64\n",
       "YearsInCurrentRole           int64\n",
       "YearsSinceLastPromotion      int64\n",
       "YearsWithCurrManager         int64\n",
       "dtype: object"
      ]
     },
     "execution_count": 14,
     "metadata": {},
     "output_type": "execute_result"
    }
   ],
   "source": [
    "df.dtypes"
   ]
  },
  {
   "cell_type": "code",
   "execution_count": 29,
   "id": "92b40a06",
   "metadata": {},
   "outputs": [
    {
     "data": {
      "text/html": [
       "<div>\n",
       "<style scoped>\n",
       "    .dataframe tbody tr th:only-of-type {\n",
       "        vertical-align: middle;\n",
       "    }\n",
       "\n",
       "    .dataframe tbody tr th {\n",
       "        vertical-align: top;\n",
       "    }\n",
       "\n",
       "    .dataframe thead th {\n",
       "        text-align: right;\n",
       "    }\n",
       "</style>\n",
       "<table border=\"1\" class=\"dataframe\">\n",
       "  <thead>\n",
       "    <tr style=\"text-align: right;\">\n",
       "      <th></th>\n",
       "      <th>count</th>\n",
       "      <th>mean</th>\n",
       "      <th>std</th>\n",
       "      <th>min</th>\n",
       "      <th>25%</th>\n",
       "      <th>50%</th>\n",
       "      <th>75%</th>\n",
       "      <th>max</th>\n",
       "    </tr>\n",
       "  </thead>\n",
       "  <tbody>\n",
       "    <tr>\n",
       "      <th>Age</th>\n",
       "      <td>1470.0</td>\n",
       "      <td>36.923810</td>\n",
       "      <td>9.135373</td>\n",
       "      <td>18.0</td>\n",
       "      <td>30.00</td>\n",
       "      <td>36.0</td>\n",
       "      <td>43.00</td>\n",
       "      <td>60.0</td>\n",
       "    </tr>\n",
       "    <tr>\n",
       "      <th>DailyRate</th>\n",
       "      <td>1470.0</td>\n",
       "      <td>802.485714</td>\n",
       "      <td>403.509100</td>\n",
       "      <td>102.0</td>\n",
       "      <td>465.00</td>\n",
       "      <td>802.0</td>\n",
       "      <td>1157.00</td>\n",
       "      <td>1499.0</td>\n",
       "    </tr>\n",
       "    <tr>\n",
       "      <th>DistanceFromHome</th>\n",
       "      <td>1470.0</td>\n",
       "      <td>9.192517</td>\n",
       "      <td>8.106864</td>\n",
       "      <td>1.0</td>\n",
       "      <td>2.00</td>\n",
       "      <td>7.0</td>\n",
       "      <td>14.00</td>\n",
       "      <td>29.0</td>\n",
       "    </tr>\n",
       "    <tr>\n",
       "      <th>Education</th>\n",
       "      <td>1470.0</td>\n",
       "      <td>2.912925</td>\n",
       "      <td>1.024165</td>\n",
       "      <td>1.0</td>\n",
       "      <td>2.00</td>\n",
       "      <td>3.0</td>\n",
       "      <td>4.00</td>\n",
       "      <td>5.0</td>\n",
       "    </tr>\n",
       "    <tr>\n",
       "      <th>EmployeeCount</th>\n",
       "      <td>1470.0</td>\n",
       "      <td>1.000000</td>\n",
       "      <td>0.000000</td>\n",
       "      <td>1.0</td>\n",
       "      <td>1.00</td>\n",
       "      <td>1.0</td>\n",
       "      <td>1.00</td>\n",
       "      <td>1.0</td>\n",
       "    </tr>\n",
       "    <tr>\n",
       "      <th>EmployeeNumber</th>\n",
       "      <td>1470.0</td>\n",
       "      <td>1024.865306</td>\n",
       "      <td>602.024335</td>\n",
       "      <td>1.0</td>\n",
       "      <td>491.25</td>\n",
       "      <td>1020.5</td>\n",
       "      <td>1555.75</td>\n",
       "      <td>2068.0</td>\n",
       "    </tr>\n",
       "    <tr>\n",
       "      <th>EnvironmentSatisfaction</th>\n",
       "      <td>1470.0</td>\n",
       "      <td>2.721769</td>\n",
       "      <td>1.093082</td>\n",
       "      <td>1.0</td>\n",
       "      <td>2.00</td>\n",
       "      <td>3.0</td>\n",
       "      <td>4.00</td>\n",
       "      <td>4.0</td>\n",
       "    </tr>\n",
       "    <tr>\n",
       "      <th>HourlyRate</th>\n",
       "      <td>1470.0</td>\n",
       "      <td>65.891156</td>\n",
       "      <td>20.329428</td>\n",
       "      <td>30.0</td>\n",
       "      <td>48.00</td>\n",
       "      <td>66.0</td>\n",
       "      <td>83.75</td>\n",
       "      <td>100.0</td>\n",
       "    </tr>\n",
       "    <tr>\n",
       "      <th>JobInvolvement</th>\n",
       "      <td>1470.0</td>\n",
       "      <td>2.729932</td>\n",
       "      <td>0.711561</td>\n",
       "      <td>1.0</td>\n",
       "      <td>2.00</td>\n",
       "      <td>3.0</td>\n",
       "      <td>3.00</td>\n",
       "      <td>4.0</td>\n",
       "    </tr>\n",
       "    <tr>\n",
       "      <th>JobLevel</th>\n",
       "      <td>1470.0</td>\n",
       "      <td>2.063946</td>\n",
       "      <td>1.106940</td>\n",
       "      <td>1.0</td>\n",
       "      <td>1.00</td>\n",
       "      <td>2.0</td>\n",
       "      <td>3.00</td>\n",
       "      <td>5.0</td>\n",
       "    </tr>\n",
       "    <tr>\n",
       "      <th>JobSatisfaction</th>\n",
       "      <td>1470.0</td>\n",
       "      <td>2.728571</td>\n",
       "      <td>1.102846</td>\n",
       "      <td>1.0</td>\n",
       "      <td>2.00</td>\n",
       "      <td>3.0</td>\n",
       "      <td>4.00</td>\n",
       "      <td>4.0</td>\n",
       "    </tr>\n",
       "    <tr>\n",
       "      <th>MonthlyIncome</th>\n",
       "      <td>1470.0</td>\n",
       "      <td>6502.931293</td>\n",
       "      <td>4707.956783</td>\n",
       "      <td>1009.0</td>\n",
       "      <td>2911.00</td>\n",
       "      <td>4919.0</td>\n",
       "      <td>8379.00</td>\n",
       "      <td>19999.0</td>\n",
       "    </tr>\n",
       "    <tr>\n",
       "      <th>MonthlyRate</th>\n",
       "      <td>1470.0</td>\n",
       "      <td>14313.103401</td>\n",
       "      <td>7117.786044</td>\n",
       "      <td>2094.0</td>\n",
       "      <td>8047.00</td>\n",
       "      <td>14235.5</td>\n",
       "      <td>20461.50</td>\n",
       "      <td>26999.0</td>\n",
       "    </tr>\n",
       "    <tr>\n",
       "      <th>NumCompaniesWorked</th>\n",
       "      <td>1470.0</td>\n",
       "      <td>2.693197</td>\n",
       "      <td>2.498009</td>\n",
       "      <td>0.0</td>\n",
       "      <td>1.00</td>\n",
       "      <td>2.0</td>\n",
       "      <td>4.00</td>\n",
       "      <td>9.0</td>\n",
       "    </tr>\n",
       "    <tr>\n",
       "      <th>PercentSalaryHike</th>\n",
       "      <td>1470.0</td>\n",
       "      <td>15.209524</td>\n",
       "      <td>3.659938</td>\n",
       "      <td>11.0</td>\n",
       "      <td>12.00</td>\n",
       "      <td>14.0</td>\n",
       "      <td>18.00</td>\n",
       "      <td>25.0</td>\n",
       "    </tr>\n",
       "    <tr>\n",
       "      <th>PerformanceRating</th>\n",
       "      <td>1470.0</td>\n",
       "      <td>3.153741</td>\n",
       "      <td>0.360824</td>\n",
       "      <td>3.0</td>\n",
       "      <td>3.00</td>\n",
       "      <td>3.0</td>\n",
       "      <td>3.00</td>\n",
       "      <td>4.0</td>\n",
       "    </tr>\n",
       "    <tr>\n",
       "      <th>RelationshipSatisfaction</th>\n",
       "      <td>1470.0</td>\n",
       "      <td>2.712245</td>\n",
       "      <td>1.081209</td>\n",
       "      <td>1.0</td>\n",
       "      <td>2.00</td>\n",
       "      <td>3.0</td>\n",
       "      <td>4.00</td>\n",
       "      <td>4.0</td>\n",
       "    </tr>\n",
       "    <tr>\n",
       "      <th>StandardHours</th>\n",
       "      <td>1470.0</td>\n",
       "      <td>80.000000</td>\n",
       "      <td>0.000000</td>\n",
       "      <td>80.0</td>\n",
       "      <td>80.00</td>\n",
       "      <td>80.0</td>\n",
       "      <td>80.00</td>\n",
       "      <td>80.0</td>\n",
       "    </tr>\n",
       "    <tr>\n",
       "      <th>StockOptionLevel</th>\n",
       "      <td>1470.0</td>\n",
       "      <td>0.793878</td>\n",
       "      <td>0.852077</td>\n",
       "      <td>0.0</td>\n",
       "      <td>0.00</td>\n",
       "      <td>1.0</td>\n",
       "      <td>1.00</td>\n",
       "      <td>3.0</td>\n",
       "    </tr>\n",
       "    <tr>\n",
       "      <th>TotalWorkingYears</th>\n",
       "      <td>1470.0</td>\n",
       "      <td>11.279592</td>\n",
       "      <td>7.780782</td>\n",
       "      <td>0.0</td>\n",
       "      <td>6.00</td>\n",
       "      <td>10.0</td>\n",
       "      <td>15.00</td>\n",
       "      <td>40.0</td>\n",
       "    </tr>\n",
       "    <tr>\n",
       "      <th>TrainingTimesLastYear</th>\n",
       "      <td>1470.0</td>\n",
       "      <td>2.799320</td>\n",
       "      <td>1.289271</td>\n",
       "      <td>0.0</td>\n",
       "      <td>2.00</td>\n",
       "      <td>3.0</td>\n",
       "      <td>3.00</td>\n",
       "      <td>6.0</td>\n",
       "    </tr>\n",
       "    <tr>\n",
       "      <th>WorkLifeBalance</th>\n",
       "      <td>1470.0</td>\n",
       "      <td>2.761224</td>\n",
       "      <td>0.706476</td>\n",
       "      <td>1.0</td>\n",
       "      <td>2.00</td>\n",
       "      <td>3.0</td>\n",
       "      <td>3.00</td>\n",
       "      <td>4.0</td>\n",
       "    </tr>\n",
       "    <tr>\n",
       "      <th>YearsAtCompany</th>\n",
       "      <td>1470.0</td>\n",
       "      <td>7.008163</td>\n",
       "      <td>6.126525</td>\n",
       "      <td>0.0</td>\n",
       "      <td>3.00</td>\n",
       "      <td>5.0</td>\n",
       "      <td>9.00</td>\n",
       "      <td>40.0</td>\n",
       "    </tr>\n",
       "    <tr>\n",
       "      <th>YearsInCurrentRole</th>\n",
       "      <td>1470.0</td>\n",
       "      <td>4.229252</td>\n",
       "      <td>3.623137</td>\n",
       "      <td>0.0</td>\n",
       "      <td>2.00</td>\n",
       "      <td>3.0</td>\n",
       "      <td>7.00</td>\n",
       "      <td>18.0</td>\n",
       "    </tr>\n",
       "    <tr>\n",
       "      <th>YearsSinceLastPromotion</th>\n",
       "      <td>1470.0</td>\n",
       "      <td>2.187755</td>\n",
       "      <td>3.222430</td>\n",
       "      <td>0.0</td>\n",
       "      <td>0.00</td>\n",
       "      <td>1.0</td>\n",
       "      <td>3.00</td>\n",
       "      <td>15.0</td>\n",
       "    </tr>\n",
       "    <tr>\n",
       "      <th>YearsWithCurrManager</th>\n",
       "      <td>1470.0</td>\n",
       "      <td>4.123129</td>\n",
       "      <td>3.568136</td>\n",
       "      <td>0.0</td>\n",
       "      <td>2.00</td>\n",
       "      <td>3.0</td>\n",
       "      <td>7.00</td>\n",
       "      <td>17.0</td>\n",
       "    </tr>\n",
       "  </tbody>\n",
       "</table>\n",
       "</div>"
      ],
      "text/plain": [
       "                           count          mean          std     min      25%  \\\n",
       "Age                       1470.0     36.923810     9.135373    18.0    30.00   \n",
       "DailyRate                 1470.0    802.485714   403.509100   102.0   465.00   \n",
       "DistanceFromHome          1470.0      9.192517     8.106864     1.0     2.00   \n",
       "Education                 1470.0      2.912925     1.024165     1.0     2.00   \n",
       "EmployeeCount             1470.0      1.000000     0.000000     1.0     1.00   \n",
       "EmployeeNumber            1470.0   1024.865306   602.024335     1.0   491.25   \n",
       "EnvironmentSatisfaction   1470.0      2.721769     1.093082     1.0     2.00   \n",
       "HourlyRate                1470.0     65.891156    20.329428    30.0    48.00   \n",
       "JobInvolvement            1470.0      2.729932     0.711561     1.0     2.00   \n",
       "JobLevel                  1470.0      2.063946     1.106940     1.0     1.00   \n",
       "JobSatisfaction           1470.0      2.728571     1.102846     1.0     2.00   \n",
       "MonthlyIncome             1470.0   6502.931293  4707.956783  1009.0  2911.00   \n",
       "MonthlyRate               1470.0  14313.103401  7117.786044  2094.0  8047.00   \n",
       "NumCompaniesWorked        1470.0      2.693197     2.498009     0.0     1.00   \n",
       "PercentSalaryHike         1470.0     15.209524     3.659938    11.0    12.00   \n",
       "PerformanceRating         1470.0      3.153741     0.360824     3.0     3.00   \n",
       "RelationshipSatisfaction  1470.0      2.712245     1.081209     1.0     2.00   \n",
       "StandardHours             1470.0     80.000000     0.000000    80.0    80.00   \n",
       "StockOptionLevel          1470.0      0.793878     0.852077     0.0     0.00   \n",
       "TotalWorkingYears         1470.0     11.279592     7.780782     0.0     6.00   \n",
       "TrainingTimesLastYear     1470.0      2.799320     1.289271     0.0     2.00   \n",
       "WorkLifeBalance           1470.0      2.761224     0.706476     1.0     2.00   \n",
       "YearsAtCompany            1470.0      7.008163     6.126525     0.0     3.00   \n",
       "YearsInCurrentRole        1470.0      4.229252     3.623137     0.0     2.00   \n",
       "YearsSinceLastPromotion   1470.0      2.187755     3.222430     0.0     0.00   \n",
       "YearsWithCurrManager      1470.0      4.123129     3.568136     0.0     2.00   \n",
       "\n",
       "                              50%       75%      max  \n",
       "Age                          36.0     43.00     60.0  \n",
       "DailyRate                   802.0   1157.00   1499.0  \n",
       "DistanceFromHome              7.0     14.00     29.0  \n",
       "Education                     3.0      4.00      5.0  \n",
       "EmployeeCount                 1.0      1.00      1.0  \n",
       "EmployeeNumber             1020.5   1555.75   2068.0  \n",
       "EnvironmentSatisfaction       3.0      4.00      4.0  \n",
       "HourlyRate                   66.0     83.75    100.0  \n",
       "JobInvolvement                3.0      3.00      4.0  \n",
       "JobLevel                      2.0      3.00      5.0  \n",
       "JobSatisfaction               3.0      4.00      4.0  \n",
       "MonthlyIncome              4919.0   8379.00  19999.0  \n",
       "MonthlyRate               14235.5  20461.50  26999.0  \n",
       "NumCompaniesWorked            2.0      4.00      9.0  \n",
       "PercentSalaryHike            14.0     18.00     25.0  \n",
       "PerformanceRating             3.0      3.00      4.0  \n",
       "RelationshipSatisfaction      3.0      4.00      4.0  \n",
       "StandardHours                80.0     80.00     80.0  \n",
       "StockOptionLevel              1.0      1.00      3.0  \n",
       "TotalWorkingYears            10.0     15.00     40.0  \n",
       "TrainingTimesLastYear         3.0      3.00      6.0  \n",
       "WorkLifeBalance               3.0      3.00      4.0  \n",
       "YearsAtCompany                5.0      9.00     40.0  \n",
       "YearsInCurrentRole            3.0      7.00     18.0  \n",
       "YearsSinceLastPromotion       1.0      3.00     15.0  \n",
       "YearsWithCurrManager          3.0      7.00     17.0  "
      ]
     },
     "execution_count": 29,
     "metadata": {},
     "output_type": "execute_result"
    }
   ],
   "source": [
    "df.describe().T"
   ]
  },
  {
   "cell_type": "code",
   "execution_count": 19,
   "id": "80796392",
   "metadata": {},
   "outputs": [
    {
     "data": {
      "text/plain": [
       "pandas.core.frame.DataFrame"
      ]
     },
     "execution_count": 19,
     "metadata": {},
     "output_type": "execute_result"
    }
   ],
   "source": [
    "type(df)"
   ]
  },
  {
   "cell_type": "code",
   "execution_count": 30,
   "id": "e200830c",
   "metadata": {},
   "outputs": [
    {
     "name": "stdout",
     "output_type": "stream",
     "text": [
      "<class 'pandas.core.frame.DataFrame'>\n",
      "RangeIndex: 1470 entries, 0 to 1469\n",
      "Data columns (total 35 columns):\n",
      " #   Column                    Non-Null Count  Dtype \n",
      "---  ------                    --------------  ----- \n",
      " 0   Age                       1470 non-null   int64 \n",
      " 1   Attrition                 1470 non-null   object\n",
      " 2   BusinessTravel            1470 non-null   object\n",
      " 3   DailyRate                 1470 non-null   int64 \n",
      " 4   Department                1470 non-null   object\n",
      " 5   DistanceFromHome          1470 non-null   int64 \n",
      " 6   Education                 1470 non-null   int64 \n",
      " 7   EducationField            1470 non-null   object\n",
      " 8   EmployeeCount             1470 non-null   int64 \n",
      " 9   EmployeeNumber            1470 non-null   int64 \n",
      " 10  EnvironmentSatisfaction   1470 non-null   int64 \n",
      " 11  Gender                    1470 non-null   object\n",
      " 12  HourlyRate                1470 non-null   int64 \n",
      " 13  JobInvolvement            1470 non-null   int64 \n",
      " 14  JobLevel                  1470 non-null   int64 \n",
      " 15  JobRole                   1470 non-null   object\n",
      " 16  JobSatisfaction           1470 non-null   int64 \n",
      " 17  MaritalStatus             1470 non-null   object\n",
      " 18  MonthlyIncome             1470 non-null   int64 \n",
      " 19  MonthlyRate               1470 non-null   int64 \n",
      " 20  NumCompaniesWorked        1470 non-null   int64 \n",
      " 21  Over18                    1470 non-null   object\n",
      " 22  OverTime                  1470 non-null   object\n",
      " 23  PercentSalaryHike         1470 non-null   int64 \n",
      " 24  PerformanceRating         1470 non-null   int64 \n",
      " 25  RelationshipSatisfaction  1470 non-null   int64 \n",
      " 26  StandardHours             1470 non-null   int64 \n",
      " 27  StockOptionLevel          1470 non-null   int64 \n",
      " 28  TotalWorkingYears         1470 non-null   int64 \n",
      " 29  TrainingTimesLastYear     1470 non-null   int64 \n",
      " 30  WorkLifeBalance           1470 non-null   int64 \n",
      " 31  YearsAtCompany            1470 non-null   int64 \n",
      " 32  YearsInCurrentRole        1470 non-null   int64 \n",
      " 33  YearsSinceLastPromotion   1470 non-null   int64 \n",
      " 34  YearsWithCurrManager      1470 non-null   int64 \n",
      "dtypes: int64(26), object(9)\n",
      "memory usage: 402.1+ KB\n"
     ]
    }
   ],
   "source": [
    "df.info()"
   ]
  },
  {
   "cell_type": "code",
   "execution_count": 20,
   "id": "8908af3b",
   "metadata": {},
   "outputs": [
    {
     "name": "stderr",
     "output_type": "stream",
     "text": [
      "C:\\Users\\Teacher\\AppData\\Local\\Temp\\ipykernel_12736\\3698961737.py:1: FutureWarning: Dropping of nuisance columns in DataFrame reductions (with 'numeric_only=None') is deprecated; in a future version this will raise TypeError.  Select only valid columns before calling the reduction.\n",
      "  df.mean()\n"
     ]
    },
    {
     "data": {
      "text/plain": [
       "Age                            36.923810\n",
       "DailyRate                     802.485714\n",
       "DistanceFromHome                9.192517\n",
       "Education                       2.912925\n",
       "EmployeeCount                   1.000000\n",
       "EmployeeNumber               1024.865306\n",
       "EnvironmentSatisfaction         2.721769\n",
       "HourlyRate                     65.891156\n",
       "JobInvolvement                  2.729932\n",
       "JobLevel                        2.063946\n",
       "JobSatisfaction                 2.728571\n",
       "MonthlyIncome                6502.931293\n",
       "MonthlyRate                 14313.103401\n",
       "NumCompaniesWorked              2.693197\n",
       "PercentSalaryHike              15.209524\n",
       "PerformanceRating               3.153741\n",
       "RelationshipSatisfaction        2.712245\n",
       "StandardHours                  80.000000\n",
       "StockOptionLevel                0.793878\n",
       "TotalWorkingYears              11.279592\n",
       "TrainingTimesLastYear           2.799320\n",
       "WorkLifeBalance                 2.761224\n",
       "YearsAtCompany                  7.008163\n",
       "YearsInCurrentRole              4.229252\n",
       "YearsSinceLastPromotion         2.187755\n",
       "YearsWithCurrManager            4.123129\n",
       "dtype: float64"
      ]
     },
     "execution_count": 20,
     "metadata": {},
     "output_type": "execute_result"
    }
   ],
   "source": [
    "df.mean()"
   ]
  },
  {
   "cell_type": "code",
   "execution_count": 26,
   "id": "03b77a1c",
   "metadata": {},
   "outputs": [
    {
     "data": {
      "text/plain": [
       "(array([ 0.5,  2.5,  4.5,  6.5,  8.5, 10.5, 12.5, 14.5, 16.5, 18.5, 20.5,\n",
       "        22.5, 24.5]),\n",
       " [Text(0.5, 0, 'Age'),\n",
       "  Text(2.5, 0, 'DistanceFromHome'),\n",
       "  Text(4.5, 0, 'EmployeeCount'),\n",
       "  Text(6.5, 0, 'EnvironmentSatisfaction'),\n",
       "  Text(8.5, 0, 'JobInvolvement'),\n",
       "  Text(10.5, 0, 'JobSatisfaction'),\n",
       "  Text(12.5, 0, 'MonthlyRate'),\n",
       "  Text(14.5, 0, 'PercentSalaryHike'),\n",
       "  Text(16.5, 0, 'RelationshipSatisfaction'),\n",
       "  Text(18.5, 0, 'StockOptionLevel'),\n",
       "  Text(20.5, 0, 'TrainingTimesLastYear'),\n",
       "  Text(22.5, 0, 'YearsAtCompany'),\n",
       "  Text(24.5, 0, 'YearsSinceLastPromotion')])"
      ]
     },
     "execution_count": 26,
     "metadata": {},
     "output_type": "execute_result"
    },
    {
     "data": {
      "image/png": "[encoded data removed]",
      "text/plain": [
       "<Figure size 432x288 with 2 Axes>"
      ]
     },
     "metadata": {
      "needs_background": "light"
     },
     "output_type": "display_data"
    }
   ],
   "source": [
    "sns.heatmap(data = correlations,square = True, cmap = \"viridis\")\n",
    "plt.yticks(rotation=0) \n",
    "plt.xticks(rotation=90)"
   ]
  },
  {
   "cell_type": "code",
   "execution_count": 31,
   "id": "9c70a9e5",
   "metadata": {},
   "outputs": [
    {
     "data": {
      "text/plain": [
       "Age                         0\n",
       "Attrition                   0\n",
       "BusinessTravel              0\n",
       "DailyRate                   0\n",
       "Department                  0\n",
       "DistanceFromHome            0\n",
       "Education                   0\n",
       "EducationField              0\n",
       "EmployeeCount               0\n",
       "EmployeeNumber              0\n",
       "EnvironmentSatisfaction     0\n",
       "Gender                      0\n",
       "HourlyRate                  0\n",
       "JobInvolvement              0\n",
       "JobLevel                    0\n",
       "JobRole                     0\n",
       "JobSatisfaction             0\n",
       "MaritalStatus               0\n",
       "MonthlyIncome               0\n",
       "MonthlyRate                 0\n",
       "NumCompaniesWorked          0\n",
       "Over18                      0\n",
       "OverTime                    0\n",
       "PercentSalaryHike           0\n",
       "PerformanceRating           0\n",
       "RelationshipSatisfaction    0\n",
       "StandardHours               0\n",
       "StockOptionLevel            0\n",
       "TotalWorkingYears           0\n",
       "TrainingTimesLastYear       0\n",
       "WorkLifeBalance             0\n",
       "YearsAtCompany              0\n",
       "YearsInCurrentRole          0\n",
       "YearsSinceLastPromotion     0\n",
       "YearsWithCurrManager        0\n",
       "dtype: int64"
      ]
     },
     "execution_count": 31,
     "metadata": {},
     "output_type": "execute_result"
    }
   ],
   "source": [
    "df.isnull().sum()"
   ]
  },
  {
   "cell_type": "code",
   "execution_count": 32,
   "id": "644ab451",
   "metadata": {},
   "outputs": [],
   "source": [
    "df = df[['Age', 'Gender', 'Attrition', 'Department', 'DistanceFromHome', 'Education', 'EducationField', 'EnvironmentSatisfaction', \n",
    "         'JobSatisfaction','MaritalStatus', 'MonthlyIncome', 'NumCompaniesWorked','WorkLifeBalance', 'YearsAtCompany']]"
   ]
  },
  {
   "cell_type": "markdown",
   "id": "2b0c242d",
   "metadata": {},
   "source": [
    "#  I. Now let's find the age distribution of employees in IBM by building age histogram"
   ]
  },
  {
   "cell_type": "code",
   "execution_count": 33,
   "id": "d4681d44",
   "metadata": {},
   "outputs": [
    {
     "data": {
      "image/png": "[encoded data removed]",
      "text/plain": [
       "<Figure size 800x480 with 1 Axes>"
      ]
     },
     "metadata": {
      "needs_background": "light"
     },
     "output_type": "display_data"
    }
   ],
   "source": [
    "plt.figure(figsize=(10,6), dpi=80)\n",
    "sns.histplot(data=df, x='Age', bins=42, kde=True).set_title('Age Distribution of Employee');"
   ]
  },
  {
   "cell_type": "markdown",
   "id": "86f248cb",
   "metadata": {},
   "source": [
    "# II. Now we can explore attrition by age"
   ]
  },
  {
   "cell_type": "code",
   "execution_count": 34,
   "id": "5805923c",
   "metadata": {},
   "outputs": [
    {
     "data": {
      "image/png": "[encoded data removed]",
      "text/plain": [
       "<Figure size 1120x480 with 1 Axes>"
      ]
     },
     "metadata": {
      "needs_background": "light"
     },
     "output_type": "display_data"
    }
   ],
   "source": [
    "plt.figure(figsize=(14,6), dpi=80)\n",
    "sns.countplot(data=df, x='Age', hue='Attrition', order = df['Age'].value_counts().index, palette='seismic_r').set_title\n",
    "('Attrition by Age');"
   ]
  },
  {
   "cell_type": "markdown",
   "id": "8a3bb1f2",
   "metadata": {},
   "source": [
    "# Expolre attrition by Gender"
   ]
  },
  {
   "cell_type": "code",
   "execution_count": 35,
   "id": "08c98053",
   "metadata": {},
   "outputs": [
    {
     "data": {
      "image/png": "[encoded data removed]",
      "text/plain": [
       "<Figure size 640x400 with 1 Axes>"
      ]
     },
     "metadata": {
      "needs_background": "light"
     },
     "output_type": "display_data"
    }
   ],
   "source": [
    "plt.figure(figsize=(8,5), dpi=80)\n",
    "sns.countplot(data=df, x='Gender', hue='Attrition', order = df['Gender'].value_counts().index, palette='seismic_r').set_title\n",
    "('Attrition by Gender');"
   ]
  },
  {
   "cell_type": "markdown",
   "id": "4bd7faac",
   "metadata": {},
   "source": [
    "# Explore data for left employees"
   ]
  },
  {
   "cell_type": "code",
   "execution_count": 36,
   "id": "3bb293a0",
   "metadata": {},
   "outputs": [
    {
     "name": "stdout",
     "output_type": "stream",
     "text": [
      "Attrition\n",
      "No     1233\n",
      "Yes     237\n",
      "Name: Attrition, dtype: int64\n"
     ]
    },
    {
     "data": {
      "image/png": "[encoded data removed]",
      "text/plain": [
       "<Figure size 400x320 with 1 Axes>"
      ]
     },
     "metadata": {
      "needs_background": "light"
     },
     "output_type": "display_data"
    }
   ],
   "source": [
    "print(df.groupby('Attrition')['Attrition'].count())\n",
    "\n",
    "plt.figure(figsize=(5,4), dpi=80)\n",
    "sns.countplot(data=df, x='Attrition', palette='seismic_r');"
   ]
  },
  {
   "cell_type": "code",
   "execution_count": 37,
   "id": "21562a98",
   "metadata": {},
   "outputs": [
    {
     "data": {
      "image/png": "[encoded data removed]",
      "text/plain": [
       "<Figure size 640x400 with 1 Axes>"
      ]
     },
     "metadata": {
      "needs_background": "light"
     },
     "output_type": "display_data"
    }
   ],
   "source": [
    "plt.figure(figsize=(8,5), dpi=80)\n",
    "sns.countplot(data=df[(df['Attrition'] == 'Yes')], x='Department', palette='cubehelix', order = df['Department']\n",
    "              .value_counts().index).set_title('Attrition by Department');"
   ]
  },
  {
   "cell_type": "code",
   "execution_count": 38,
   "id": "eb5db55a",
   "metadata": {},
   "outputs": [
    {
     "name": "stderr",
     "output_type": "stream",
     "text": [
      "C:\\Users\\Teacher\\AppData\\Local\\Temp\\ipykernel_12736\\47552751.py:18: SettingWithCopyWarning: \n",
      "A value is trying to be set on a copy of a slice from a DataFrame.\n",
      "Try using .loc[row_indexer,col_indexer] = value instead\n",
      "\n",
      "See the caveats in the documentation: https://pandas.pydata.org/pandas-docs/stable/user_guide/indexing.html#returning-a-view-versus-a-copy\n",
      "  df[\"AgeRange\"] = agerange\n"
     ]
    }
   ],
   "source": [
    "agerange = []\n",
    "for age in df[\"Age\"]:\n",
    "    if age >= 18 and age < 24:\n",
    "        agerange.append(\"18-24\")\n",
    "    elif age >= 25 and age < 31:\n",
    "        agerange.append(\"25-31\")\n",
    "    elif age >= 32 and age < 38:\n",
    "        agerange.append(\"32-38\")\n",
    "    elif age >= 39 and age < 45:\n",
    "        agerange.append(\"39-45\")\n",
    "    elif age >= 46 and age < 52:\n",
    "        agerange.append(\"46-52\")\n",
    "    elif age >= 53 and age < 59:\n",
    "        agerange.append(\"53-59\")\n",
    "    else:\n",
    "        agerange.append(\"60-66\")\n",
    "       \n",
    "df[\"AgeRange\"] = agerange"
   ]
  },
  {
   "cell_type": "code",
   "execution_count": 39,
   "id": "bc3736c5",
   "metadata": {},
   "outputs": [
    {
     "data": {
      "text/html": [
       "<div>\n",
       "<style scoped>\n",
       "    .dataframe tbody tr th:only-of-type {\n",
       "        vertical-align: middle;\n",
       "    }\n",
       "\n",
       "    .dataframe tbody tr th {\n",
       "        vertical-align: top;\n",
       "    }\n",
       "\n",
       "    .dataframe thead th {\n",
       "        text-align: right;\n",
       "    }\n",
       "</style>\n",
       "<table border=\"1\" class=\"dataframe\">\n",
       "  <thead>\n",
       "    <tr style=\"text-align: right;\">\n",
       "      <th></th>\n",
       "      <th>Age</th>\n",
       "      <th>Gender</th>\n",
       "      <th>Attrition</th>\n",
       "      <th>Department</th>\n",
       "      <th>DistanceFromHome</th>\n",
       "      <th>Education</th>\n",
       "      <th>EducationField</th>\n",
       "      <th>EnvironmentSatisfaction</th>\n",
       "      <th>JobSatisfaction</th>\n",
       "      <th>MaritalStatus</th>\n",
       "      <th>MonthlyIncome</th>\n",
       "      <th>NumCompaniesWorked</th>\n",
       "      <th>WorkLifeBalance</th>\n",
       "      <th>YearsAtCompany</th>\n",
       "      <th>AgeRange</th>\n",
       "    </tr>\n",
       "  </thead>\n",
       "  <tbody>\n",
       "    <tr>\n",
       "      <th>0</th>\n",
       "      <td>41</td>\n",
       "      <td>Female</td>\n",
       "      <td>Yes</td>\n",
       "      <td>Sales</td>\n",
       "      <td>1</td>\n",
       "      <td>2</td>\n",
       "      <td>Life Sciences</td>\n",
       "      <td>2</td>\n",
       "      <td>4</td>\n",
       "      <td>Single</td>\n",
       "      <td>5993</td>\n",
       "      <td>8</td>\n",
       "      <td>1</td>\n",
       "      <td>6</td>\n",
       "      <td>39-45</td>\n",
       "    </tr>\n",
       "    <tr>\n",
       "      <th>1</th>\n",
       "      <td>49</td>\n",
       "      <td>Male</td>\n",
       "      <td>No</td>\n",
       "      <td>Research &amp; Development</td>\n",
       "      <td>8</td>\n",
       "      <td>1</td>\n",
       "      <td>Life Sciences</td>\n",
       "      <td>3</td>\n",
       "      <td>2</td>\n",
       "      <td>Married</td>\n",
       "      <td>5130</td>\n",
       "      <td>1</td>\n",
       "      <td>3</td>\n",
       "      <td>10</td>\n",
       "      <td>46-52</td>\n",
       "    </tr>\n",
       "    <tr>\n",
       "      <th>2</th>\n",
       "      <td>37</td>\n",
       "      <td>Male</td>\n",
       "      <td>Yes</td>\n",
       "      <td>Research &amp; Development</td>\n",
       "      <td>2</td>\n",
       "      <td>2</td>\n",
       "      <td>Other</td>\n",
       "      <td>4</td>\n",
       "      <td>3</td>\n",
       "      <td>Single</td>\n",
       "      <td>2090</td>\n",
       "      <td>6</td>\n",
       "      <td>3</td>\n",
       "      <td>0</td>\n",
       "      <td>32-38</td>\n",
       "    </tr>\n",
       "    <tr>\n",
       "      <th>3</th>\n",
       "      <td>33</td>\n",
       "      <td>Female</td>\n",
       "      <td>No</td>\n",
       "      <td>Research &amp; Development</td>\n",
       "      <td>3</td>\n",
       "      <td>4</td>\n",
       "      <td>Life Sciences</td>\n",
       "      <td>4</td>\n",
       "      <td>3</td>\n",
       "      <td>Married</td>\n",
       "      <td>2909</td>\n",
       "      <td>1</td>\n",
       "      <td>3</td>\n",
       "      <td>8</td>\n",
       "      <td>32-38</td>\n",
       "    </tr>\n",
       "    <tr>\n",
       "      <th>4</th>\n",
       "      <td>27</td>\n",
       "      <td>Male</td>\n",
       "      <td>No</td>\n",
       "      <td>Research &amp; Development</td>\n",
       "      <td>2</td>\n",
       "      <td>1</td>\n",
       "      <td>Medical</td>\n",
       "      <td>1</td>\n",
       "      <td>2</td>\n",
       "      <td>Married</td>\n",
       "      <td>3468</td>\n",
       "      <td>9</td>\n",
       "      <td>3</td>\n",
       "      <td>2</td>\n",
       "      <td>25-31</td>\n",
       "    </tr>\n",
       "  </tbody>\n",
       "</table>\n",
       "</div>"
      ],
      "text/plain": [
       "   Age  Gender Attrition              Department  DistanceFromHome  Education  \\\n",
       "0   41  Female       Yes                   Sales                 1          2   \n",
       "1   49    Male        No  Research & Development                 8          1   \n",
       "2   37    Male       Yes  Research & Development                 2          2   \n",
       "3   33  Female        No  Research & Development                 3          4   \n",
       "4   27    Male        No  Research & Development                 2          1   \n",
       "\n",
       "  EducationField  EnvironmentSatisfaction  JobSatisfaction MaritalStatus  \\\n",
       "0  Life Sciences                        2                4        Single   \n",
       "1  Life Sciences                        3                2       Married   \n",
       "2          Other                        4                3        Single   \n",
       "3  Life Sciences                        4                3       Married   \n",
       "4        Medical                        1                2       Married   \n",
       "\n",
       "   MonthlyIncome  NumCompaniesWorked  WorkLifeBalance  YearsAtCompany AgeRange  \n",
       "0           5993                   8                1               6    39-45  \n",
       "1           5130                   1                3              10    46-52  \n",
       "2           2090                   6                3               0    32-38  \n",
       "3           2909                   1                3               8    32-38  \n",
       "4           3468                   9                3               2    25-31  "
      ]
     },
     "execution_count": 39,
     "metadata": {},
     "output_type": "execute_result"
    }
   ],
   "source": [
    "df.head()"
   ]
  },
  {
   "cell_type": "code",
   "execution_count": 40,
   "id": "b7d3f64c",
   "metadata": {},
   "outputs": [
    {
     "data": {
      "image/png": "[encoded data removed]",
      "text/plain": [
       "<Figure size 640x400 with 1 Axes>"
      ]
     },
     "metadata": {
      "needs_background": "light"
     },
     "output_type": "display_data"
    }
   ],
   "source": [
    "plt.figure(figsize=(8,5), dpi=80)\n",
    "sns.countplot(data=df[(df['Attrition'] == 'Yes')], x='AgeRange', palette='cubehelix').set_title('Attrition by Age Group');"
   ]
  },
  {
   "cell_type": "code",
   "execution_count": 41,
   "id": "81a1b505",
   "metadata": {},
   "outputs": [
    {
     "data": {
      "image/png": "[encoded data removed]",
      "text/plain": [
       "<Figure size 640x400 with 1 Axes>"
      ]
     },
     "metadata": {
      "needs_background": "light"
     },
     "output_type": "display_data"
    }
   ],
   "source": [
    "plt.figure(figsize=(8,5),dpi=80)\n",
    "sns.countplot(data=df[(df['Attrition'] == 'Yes')], x='Education', order=df['Education'].value_counts().index, \n",
    "              palette='cubehelix').set_title('Attrition by Education');"
   ]
  },
  {
   "cell_type": "code",
   "execution_count": 42,
   "id": "d49b1e5b",
   "metadata": {},
   "outputs": [
    {
     "data": {
      "image/png": "[encoded data removed]",
      "text/plain": [
       "<Figure size 640x400 with 1 Axes>"
      ]
     },
     "metadata": {
      "needs_background": "light"
     },
     "output_type": "display_data"
    }
   ],
   "source": [
    "plt.figure(figsize=(8,5),dpi=80)\n",
    "sns.countplot(data=df[(df['Attrition'] == 'Yes')], x='EnvironmentSatisfaction', order=df['EnvironmentSatisfaction']\n",
    "              .value_counts().index, palette='cubehelix').set_title('Attrition by Environment Satisfaction');"
   ]
  },
  {
   "cell_type": "code",
   "execution_count": 43,
   "id": "e8f7999d",
   "metadata": {},
   "outputs": [
    {
     "data": {
      "image/png": "[encoded data removed]",
      "text/plain": [
       "<Figure size 640x400 with 1 Axes>"
      ]
     },
     "metadata": {
      "needs_background": "light"
     },
     "output_type": "display_data"
    }
   ],
   "source": [
    "plt.figure(figsize=(8,5),dpi=80)\n",
    "sns.countplot(data=df[(df['Attrition'] == 'Yes')], x='JobSatisfaction', order=df['JobSatisfaction'].value_counts().index, palette='cubehelix');"
   ]
  },
  {
   "cell_type": "markdown",
   "id": "d8b20659",
   "metadata": {},
   "source": [
    "# Find out the distribution of employees by education field"
   ]
  },
  {
   "cell_type": "code",
   "execution_count": 44,
   "id": "58cb6abb",
   "metadata": {},
   "outputs": [
    {
     "data": {
      "image/png": "[encoded data removed]",
      "text/plain": [
       "<Figure size 880x480 with 1 Axes>"
      ]
     },
     "metadata": {
      "needs_background": "light"
     },
     "output_type": "display_data"
    }
   ],
   "source": [
    "plt.figure(figsize=(11,6), dpi=80)\n",
    "sns.histplot(data=df, x='EducationField').set_title('Attrition by Education Field');"
   ]
  },
  {
   "cell_type": "code",
   "execution_count": 45,
   "id": "8735be4c",
   "metadata": {},
   "outputs": [
    {
     "data": {
      "text/plain": [
       "Text(0.5, 1.0, 'Attrition by Education Field')"
      ]
     },
     "execution_count": 45,
     "metadata": {},
     "output_type": "execute_result"
    },
    {
     "data": {
      "image/png": "[encoded data removed]",
      "text/plain": [
       "<Figure size 880x480 with 1 Axes>"
      ]
     },
     "metadata": {
      "needs_background": "light"
     },
     "output_type": "display_data"
    }
   ],
   "source": [
    "plt.figure(figsize=(11,6), dpi=80)\n",
    "sns.countplot(data=df, x='EducationField', hue='Attrition', order = df['EducationField'].value_counts().index, palette='seismic_r').set_title('Attrition by Education Field')"
   ]
  },
  {
   "cell_type": "markdown",
   "id": "b906f8b4",
   "metadata": {},
   "source": [
    "# Explore data for Martial Status"
   ]
  },
  {
   "cell_type": "code",
   "execution_count": 46,
   "id": "9eafeb48",
   "metadata": {},
   "outputs": [
    {
     "data": {
      "text/plain": [
       "Text(0.5, 1.0, 'Attrition by Marital Status')"
      ]
     },
     "execution_count": 46,
     "metadata": {},
     "output_type": "execute_result"
    },
    {
     "data": {
      "image/png": "[encoded data removed]",
      "text/plain": [
       "<Figure size 640x400 with 1 Axes>"
      ]
     },
     "metadata": {
      "needs_background": "light"
     },
     "output_type": "display_data"
    }
   ],
   "source": [
    "plt.figure(figsize=(8,5),dpi=80)\n",
    "sns.countplot(data=df, x='MaritalStatus', hue='Attrition', order=df['MaritalStatus'].value_counts().index, palette='seismic_r').set_title('Attrition by Marital Status')"
   ]
  },
  {
   "cell_type": "code",
   "execution_count": 47,
   "id": "a23191af",
   "metadata": {},
   "outputs": [
    {
     "data": {
      "text/plain": [
       "Age                         int64\n",
       "Gender                     object\n",
       "Attrition                  object\n",
       "Department                 object\n",
       "DistanceFromHome            int64\n",
       "Education                   int64\n",
       "EducationField             object\n",
       "EnvironmentSatisfaction     int64\n",
       "JobSatisfaction             int64\n",
       "MaritalStatus              object\n",
       "MonthlyIncome               int64\n",
       "NumCompaniesWorked          int64\n",
       "WorkLifeBalance             int64\n",
       "YearsAtCompany              int64\n",
       "AgeRange                   object\n",
       "dtype: object"
      ]
     },
     "execution_count": 47,
     "metadata": {},
     "output_type": "execute_result"
    }
   ],
   "source": [
    "df.dtypes"
   ]
  },
  {
   "cell_type": "code",
   "execution_count": 59,
   "id": "da6056d0",
   "metadata": {},
   "outputs": [],
   "source": [
    "df['Attrition'].replace('Yes', 1, inplace=True)\n",
    "df['Attrition'].replace('No', 0, inplace=True)"
   ]
  },
  {
   "cell_type": "code",
   "execution_count": 60,
   "id": "cc4fb0ad",
   "metadata": {},
   "outputs": [],
   "source": [
    "df['Gender'].replace('Male', 1, inplace=True)\n",
    "df['Gender'].replace('Female', 0, inplace=True)"
   ]
  },
  {
   "cell_type": "code",
   "execution_count": 61,
   "id": "2c30f67f",
   "metadata": {},
   "outputs": [],
   "source": [
    "df['Department'].replace('Human Resources', 1, inplace=True)\n",
    "df['Department'].replace('Research & Development', 2, inplace=True)\n",
    "df['Department'].replace('Sales', 3, inplace=True)"
   ]
  },
  {
   "cell_type": "code",
   "execution_count": 62,
   "id": "33c1a0d6",
   "metadata": {},
   "outputs": [],
   "source": [
    "df['EducationField'].replace('Human Resources', 1, inplace=True)\n",
    "df['EducationField'].replace('Life Sciences', 2, inplace=True)\n",
    "df['EducationField'].replace('Marketing', 3, inplace=True)\n",
    "df['EducationField'].replace('Medical', 4, inplace=True)\n",
    "df['EducationField'].replace('Other', 5, inplace=True)\n",
    "df['EducationField'].replace('Technical Degree', 6, inplace=True)"
   ]
  },
  {
   "cell_type": "code",
   "execution_count": 63,
   "id": "97b9f86c",
   "metadata": {},
   "outputs": [],
   "source": [
    "df['MaritalStatus'].replace('Divorced', 1, inplace=True)\n",
    "df['MaritalStatus'].replace('Married', 2, inplace=True)\n",
    "df['MaritalStatus'].replace('Single', 3, inplace=True)"
   ]
  },
  {
   "cell_type": "code",
   "execution_count": 49,
   "id": "5af43ec8",
   "metadata": {},
   "outputs": [
    {
     "data": {
      "text/plain": [
       "Age                         int64\n",
       "Gender                     object\n",
       "Attrition                   int64\n",
       "Department                 object\n",
       "DistanceFromHome            int64\n",
       "Education                   int64\n",
       "EducationField             object\n",
       "EnvironmentSatisfaction     int64\n",
       "JobSatisfaction             int64\n",
       "MaritalStatus              object\n",
       "MonthlyIncome               int64\n",
       "NumCompaniesWorked          int64\n",
       "WorkLifeBalance             int64\n",
       "YearsAtCompany              int64\n",
       "AgeRange                   object\n",
       "dtype: object"
      ]
     },
     "execution_count": 49,
     "metadata": {},
     "output_type": "execute_result"
    }
   ],
   "source": [
    "df.dtypes"
   ]
  },
  {
   "cell_type": "markdown",
   "id": "ba1d1d2e",
   "metadata": {},
   "source": [
    "# Building a logistic regression model to predict which employees are likely to attrite"
   ]
  },
  {
   "cell_type": "code",
   "execution_count": 64,
   "id": "5dd5c330",
   "metadata": {},
   "outputs": [],
   "source": [
    "x = df.drop(['Attrition', 'AgeRange', 'DistanceFromHome', 'NumCompaniesWorked', 'WorkLifeBalance'], axis=1)"
   ]
  },
  {
   "cell_type": "code",
   "execution_count": 65,
   "id": "3bfce11a",
   "metadata": {},
   "outputs": [],
   "source": [
    "y = df[['Attrition']]"
   ]
  },
  {
   "cell_type": "code",
   "execution_count": 66,
   "id": "256bc556",
   "metadata": {},
   "outputs": [],
   "source": [
    "from sklearn.model_selection import train_test_split\n",
    "x_train, x_test, y_train, y_test = train_test_split(x, y, test_size=0.2)"
   ]
  },
  {
   "cell_type": "code",
   "execution_count": 67,
   "id": "b7589a8a",
   "metadata": {},
   "outputs": [],
   "source": [
    "from sklearn.preprocessing import StandardScaler\n",
    "sc = StandardScaler()\n",
    "x_train = sc.fit_transform(x_train)\n",
    "x_test = sc.fit_transform(x_test)"
   ]
  },
  {
   "cell_type": "markdown",
   "id": "e70237a4",
   "metadata": {},
   "source": [
    "# Logistic Regression"
   ]
  },
  {
   "cell_type": "code",
   "execution_count": 68,
   "id": "12a1c378",
   "metadata": {},
   "outputs": [
    {
     "name": "stderr",
     "output_type": "stream",
     "text": [
      "C:\\Users\\Teacher\\anaconda3\\lib\\site-packages\\sklearn\\utils\\validation.py:993: DataConversionWarning: A column-vector y was passed when a 1d array was expected. Please change the shape of y to (n_samples, ), for example using ravel().\n",
      "  y = column_or_1d(y, warn=True)\n"
     ]
    },
    {
     "name": "stdout",
     "output_type": "stream",
     "text": [
      "Accuracy = 84.18367346938776 %\n"
     ]
    }
   ],
   "source": [
    "from sklearn.linear_model import LogisticRegression\n",
    "lr = LogisticRegression()\n",
    "lr = lr.fit(x_train, y_train)\n",
    "\n",
    "# check the accuracy on the training set\n",
    "print('Accuracy =', lr.score(x_train, y_train)*100,'%');"
   ]
  },
  {
   "cell_type": "code",
   "execution_count": 69,
   "id": "e689a835",
   "metadata": {},
   "outputs": [],
   "source": [
    "lr_y_pred = lr.predict(x_test)"
   ]
  },
  {
   "cell_type": "code",
   "execution_count": 70,
   "id": "56e51e1f",
   "metadata": {},
   "outputs": [
    {
     "data": {
      "text/html": [
       "<div>\n",
       "<style scoped>\n",
       "    .dataframe tbody tr th:only-of-type {\n",
       "        vertical-align: middle;\n",
       "    }\n",
       "\n",
       "    .dataframe tbody tr th {\n",
       "        vertical-align: top;\n",
       "    }\n",
       "\n",
       "    .dataframe thead th {\n",
       "        text-align: right;\n",
       "    }\n",
       "</style>\n",
       "<table border=\"1\" class=\"dataframe\">\n",
       "  <thead>\n",
       "    <tr style=\"text-align: right;\">\n",
       "      <th></th>\n",
       "      <th>0</th>\n",
       "    </tr>\n",
       "  </thead>\n",
       "  <tbody>\n",
       "    <tr>\n",
       "      <th>0</th>\n",
       "      <td>0</td>\n",
       "    </tr>\n",
       "    <tr>\n",
       "      <th>1</th>\n",
       "      <td>0</td>\n",
       "    </tr>\n",
       "    <tr>\n",
       "      <th>2</th>\n",
       "      <td>0</td>\n",
       "    </tr>\n",
       "    <tr>\n",
       "      <th>3</th>\n",
       "      <td>0</td>\n",
       "    </tr>\n",
       "    <tr>\n",
       "      <th>4</th>\n",
       "      <td>0</td>\n",
       "    </tr>\n",
       "  </tbody>\n",
       "</table>\n",
       "</div>"
      ],
      "text/plain": [
       "   0\n",
       "0  0\n",
       "1  0\n",
       "2  0\n",
       "3  0\n",
       "4  0"
      ]
     },
     "execution_count": 70,
     "metadata": {},
     "output_type": "execute_result"
    }
   ],
   "source": [
    "pd.DataFrame(lr_y_pred).head()"
   ]
  },
  {
   "cell_type": "code",
   "execution_count": 71,
   "id": "f4a49d8a",
   "metadata": {},
   "outputs": [
    {
     "name": "stdout",
     "output_type": "stream",
     "text": [
      "[[0.90016451 0.09983549]\n",
      " [0.67282614 0.32717386]\n",
      " [0.73475212 0.26524788]\n",
      " [0.54019438 0.45980562]\n",
      " [0.91190058 0.08809942]\n",
      " [0.97860762 0.02139238]\n",
      " [0.62812713 0.37187287]\n",
      " [0.76915711 0.23084289]\n",
      " [0.81566908 0.18433092]\n",
      " [0.94617665 0.05382335]\n",
      " [0.87669992 0.12330008]\n",
      " [0.65885539 0.34114461]\n",
      " [0.71773552 0.28226448]\n",
      " [0.93318914 0.06681086]\n",
      " [0.77715196 0.22284804]\n",
      " [0.77283925 0.22716075]\n",
      " [0.96771198 0.03228802]\n",
      " [0.75913612 0.24086388]\n",
      " [0.96474024 0.03525976]\n",
      " [0.87301096 0.12698904]\n",
      " [0.86125371 0.13874629]\n",
      " [0.87013361 0.12986639]\n",
      " [0.59625235 0.40374765]\n",
      " [0.93698046 0.06301954]\n",
      " [0.66172673 0.33827327]\n",
      " [0.79501905 0.20498095]\n",
      " [0.77675523 0.22324477]\n",
      " [0.96168998 0.03831002]\n",
      " [0.83681955 0.16318045]\n",
      " [0.81884833 0.18115167]\n",
      " [0.93606556 0.06393444]\n",
      " [0.60920567 0.39079433]\n",
      " [0.70123421 0.29876579]\n",
      " [0.65479253 0.34520747]\n",
      " [0.5392576  0.4607424 ]\n",
      " [0.76657843 0.23342157]\n",
      " [0.89206889 0.10793111]\n",
      " [0.65414059 0.34585941]\n",
      " [0.881274   0.118726  ]\n",
      " [0.69607023 0.30392977]\n",
      " [0.92771535 0.07228465]\n",
      " [0.96017546 0.03982454]\n",
      " [0.69155457 0.30844543]\n",
      " [0.83371842 0.16628158]\n",
      " [0.93713473 0.06286527]\n",
      " [0.65080233 0.34919767]\n",
      " [0.93797909 0.06202091]\n",
      " [0.87189442 0.12810558]\n",
      " [0.89935108 0.10064892]\n",
      " [0.77668876 0.22331124]\n",
      " [0.84907512 0.15092488]\n",
      " [0.85139031 0.14860969]\n",
      " [0.93025063 0.06974937]\n",
      " [0.80101798 0.19898202]\n",
      " [0.96835315 0.03164685]\n",
      " [0.9224015  0.0775985 ]\n",
      " [0.77864337 0.22135663]\n",
      " [0.87334253 0.12665747]\n",
      " [0.57471055 0.42528945]\n",
      " [0.82604005 0.17395995]\n",
      " [0.83579923 0.16420077]\n",
      " [0.54214836 0.45785164]\n",
      " [0.66870678 0.33129322]\n",
      " [0.92129544 0.07870456]\n",
      " [0.69158022 0.30841978]\n",
      " [0.8748364  0.1251636 ]\n",
      " [0.58840076 0.41159924]\n",
      " [0.61141825 0.38858175]\n",
      " [0.54196135 0.45803865]\n",
      " [0.93220808 0.06779192]\n",
      " [0.92677685 0.07322315]\n",
      " [0.93685564 0.06314436]\n",
      " [0.91030083 0.08969917]\n",
      " [0.86722197 0.13277803]\n",
      " [0.7348111  0.2651889 ]\n",
      " [0.7072642  0.2927358 ]\n",
      " [0.87807407 0.12192593]\n",
      " [0.81231801 0.18768199]\n",
      " [0.88055921 0.11944079]\n",
      " [0.85648338 0.14351662]\n",
      " [0.53685449 0.46314551]\n",
      " [0.96173475 0.03826525]\n",
      " [0.94200149 0.05799851]\n",
      " [0.84469423 0.15530577]\n",
      " [0.7427411  0.2572589 ]\n",
      " [0.86449693 0.13550307]\n",
      " [0.92078485 0.07921515]\n",
      " [0.97083802 0.02916198]\n",
      " [0.76870446 0.23129554]\n",
      " [0.91657618 0.08342382]\n",
      " [0.88851015 0.11148985]\n",
      " [0.95735595 0.04264405]\n",
      " [0.83359085 0.16640915]\n",
      " [0.91526644 0.08473356]\n",
      " [0.85595385 0.14404615]\n",
      " [0.90299146 0.09700854]\n",
      " [0.79510549 0.20489451]\n",
      " [0.98130081 0.01869919]\n",
      " [0.7556695  0.2443305 ]\n",
      " [0.83627399 0.16372601]\n",
      " [0.79667143 0.20332857]\n",
      " [0.98820143 0.01179857]\n",
      " [0.45002736 0.54997264]\n",
      " [0.84984893 0.15015107]\n",
      " [0.84688377 0.15311623]\n",
      " [0.90222274 0.09777726]\n",
      " [0.93212426 0.06787574]\n",
      " [0.87826338 0.12173662]\n",
      " [0.80010169 0.19989831]\n",
      " [0.93749387 0.06250613]\n",
      " [0.94456619 0.05543381]\n",
      " [0.73759058 0.26240942]\n",
      " [0.87401557 0.12598443]\n",
      " [0.68768865 0.31231135]\n",
      " [0.8409693  0.1590307 ]\n",
      " [0.86520045 0.13479955]\n",
      " [0.88566153 0.11433847]\n",
      " [0.87216637 0.12783363]\n",
      " [0.67518877 0.32481123]\n",
      " [0.81295583 0.18704417]\n",
      " [0.90696607 0.09303393]\n",
      " [0.89180009 0.10819991]\n",
      " [0.63549675 0.36450325]\n",
      " [0.86635865 0.13364135]\n",
      " [0.78654837 0.21345163]\n",
      " [0.6772457  0.3227543 ]\n",
      " [0.86823428 0.13176572]\n",
      " [0.73250133 0.26749867]\n",
      " [0.87916394 0.12083606]\n",
      " [0.56505934 0.43494066]\n",
      " [0.6682978  0.3317022 ]\n",
      " [0.98687835 0.01312165]\n",
      " [0.86257017 0.13742983]\n",
      " [0.8850445  0.1149555 ]\n",
      " [0.79321544 0.20678456]\n",
      " [0.89688636 0.10311364]\n",
      " [0.9472052  0.0527948 ]\n",
      " [0.89461938 0.10538062]\n",
      " [0.8437589  0.1562411 ]\n",
      " [0.86448254 0.13551746]\n",
      " [0.94118517 0.05881483]\n",
      " [0.8261443  0.1738557 ]\n",
      " [0.8736455  0.1263545 ]\n",
      " [0.83289649 0.16710351]\n",
      " [0.97746522 0.02253478]\n",
      " [0.88908453 0.11091547]\n",
      " [0.96078325 0.03921675]\n",
      " [0.87513727 0.12486273]\n",
      " [0.8982209  0.1017791 ]\n",
      " [0.81338066 0.18661934]\n",
      " [0.87207791 0.12792209]\n",
      " [0.75255753 0.24744247]\n",
      " [0.96661207 0.03338793]\n",
      " [0.85469117 0.14530883]\n",
      " [0.95646694 0.04353306]\n",
      " [0.79475351 0.20524649]\n",
      " [0.53603029 0.46396971]\n",
      " [0.89765261 0.10234739]\n",
      " [0.94387502 0.05612498]\n",
      " [0.94197835 0.05802165]\n",
      " [0.87710341 0.12289659]\n",
      " [0.84192321 0.15807679]\n",
      " [0.81809958 0.18190042]\n",
      " [0.82336697 0.17663303]\n",
      " [0.88546096 0.11453904]\n",
      " [0.89559992 0.10440008]\n",
      " [0.93793933 0.06206067]\n",
      " [0.90336472 0.09663528]\n",
      " [0.9383503  0.0616497 ]\n",
      " [0.80823162 0.19176838]\n",
      " [0.77694245 0.22305755]\n",
      " [0.89173851 0.10826149]\n",
      " [0.95329487 0.04670513]\n",
      " [0.95355556 0.04644444]\n",
      " [0.79809038 0.20190962]\n",
      " [0.7026592  0.2973408 ]\n",
      " [0.8225973  0.1774027 ]\n",
      " [0.91414964 0.08585036]\n",
      " [0.78482025 0.21517975]\n",
      " [0.90936902 0.09063098]\n",
      " [0.74891774 0.25108226]\n",
      " [0.83403041 0.16596959]\n",
      " [0.69875376 0.30124624]\n",
      " [0.78112944 0.21887056]\n",
      " [0.93212378 0.06787622]\n",
      " [0.80928808 0.19071192]\n",
      " [0.84146331 0.15853669]\n",
      " [0.79442426 0.20557574]\n",
      " [0.54920711 0.45079289]\n",
      " [0.85349351 0.14650649]\n",
      " [0.971378   0.028622  ]\n",
      " [0.81626934 0.18373066]\n",
      " [0.82591428 0.17408572]\n",
      " [0.94299338 0.05700662]\n",
      " [0.79832478 0.20167522]\n",
      " [0.57186124 0.42813876]\n",
      " [0.93336111 0.06663889]\n",
      " [0.59309184 0.40690816]\n",
      " [0.90142327 0.09857673]\n",
      " [0.80829724 0.19170276]\n",
      " [0.89698315 0.10301685]\n",
      " [0.82913459 0.17086541]\n",
      " [0.60642226 0.39357774]\n",
      " [0.88132769 0.11867231]\n",
      " [0.78233387 0.21766613]\n",
      " [0.87683324 0.12316676]\n",
      " [0.90325754 0.09674246]\n",
      " [0.87538741 0.12461259]\n",
      " [0.94581121 0.05418879]\n",
      " [0.94853196 0.05146804]\n",
      " [0.81075752 0.18924248]\n",
      " [0.84757267 0.15242733]\n",
      " [0.85721228 0.14278772]\n",
      " [0.92392768 0.07607232]\n",
      " [0.75921229 0.24078771]\n",
      " [0.80618021 0.19381979]\n",
      " [0.96759178 0.03240822]\n",
      " [0.89055375 0.10944625]\n",
      " [0.85095697 0.14904303]\n",
      " [0.64405947 0.35594053]\n",
      " [0.96344203 0.03655797]\n",
      " [0.92394281 0.07605719]\n",
      " [0.8713896  0.1286104 ]\n",
      " [0.89925727 0.10074273]\n",
      " [0.90548161 0.09451839]\n",
      " [0.95247394 0.04752606]\n",
      " [0.82182511 0.17817489]\n",
      " [0.83646818 0.16353182]\n",
      " [0.77140072 0.22859928]\n",
      " [0.81893846 0.18106154]\n",
      " [0.64518956 0.35481044]\n",
      " [0.81778397 0.18221603]\n",
      " [0.9799647  0.0200353 ]\n",
      " [0.84776313 0.15223687]\n",
      " [0.89985128 0.10014872]\n",
      " [0.78366557 0.21633443]\n",
      " [0.9713518  0.0286482 ]\n",
      " [0.84052875 0.15947125]\n",
      " [0.89959203 0.10040797]\n",
      " [0.93210202 0.06789798]\n",
      " [0.93989759 0.06010241]\n",
      " [0.87290326 0.12709674]\n",
      " [0.76404879 0.23595121]\n",
      " [0.92534819 0.07465181]\n",
      " [0.75254874 0.24745126]\n",
      " [0.85827857 0.14172143]\n",
      " [0.73525825 0.26474175]\n",
      " [0.74373111 0.25626889]\n",
      " [0.98743159 0.01256841]\n",
      " [0.65258141 0.34741859]\n",
      " [0.83906192 0.16093808]\n",
      " [0.91113343 0.08886657]\n",
      " [0.66950537 0.33049463]\n",
      " [0.69289789 0.30710211]\n",
      " [0.96315501 0.03684499]\n",
      " [0.9519597  0.0480403 ]\n",
      " [0.65164046 0.34835954]\n",
      " [0.98292016 0.01707984]\n",
      " [0.90357995 0.09642005]\n",
      " [0.82869117 0.17130883]\n",
      " [0.92375125 0.07624875]\n",
      " [0.90911364 0.09088636]\n",
      " [0.87782101 0.12217899]\n",
      " [0.96322235 0.03677765]\n",
      " [0.8881535  0.1118465 ]\n",
      " [0.97855863 0.02144137]\n",
      " [0.97385211 0.02614789]\n",
      " [0.9351829  0.0648171 ]\n",
      " [0.65036349 0.34963651]\n",
      " [0.61990501 0.38009499]\n",
      " [0.98230093 0.01769907]\n",
      " [0.83581639 0.16418361]\n",
      " [0.85910367 0.14089633]\n",
      " [0.75805771 0.24194229]\n",
      " [0.94189412 0.05810588]\n",
      " [0.96218418 0.03781582]\n",
      " [0.87169345 0.12830655]\n",
      " [0.93525963 0.06474037]\n",
      " [0.6916855  0.3083145 ]\n",
      " [0.81282177 0.18717823]\n",
      " [0.98758639 0.01241361]\n",
      " [0.8893998  0.1106002 ]\n",
      " [0.85507757 0.14492243]\n",
      " [0.64587976 0.35412024]\n",
      " [0.82534911 0.17465089]\n",
      " [0.87334593 0.12665407]\n",
      " [0.74783161 0.25216839]\n",
      " [0.78026488 0.21973512]\n",
      " [0.95578925 0.04421075]\n",
      " [0.83366046 0.16633954]\n",
      " [0.82190944 0.17809056]\n",
      " [0.95550136 0.04449864]\n",
      " [0.89165272 0.10834728]\n",
      " [0.78385708 0.21614292]]\n"
     ]
    }
   ],
   "source": [
    "prob = lr.predict_proba(x_test)\n",
    "print(prob)"
   ]
  },
  {
   "cell_type": "code",
   "execution_count": 72,
   "id": "e1aba12d",
   "metadata": {},
   "outputs": [
    {
     "name": "stdout",
     "output_type": "stream",
     "text": [
      "Test Accuracy Score: 86.39455782312925 %\n",
      "\n",
      "----------------------Classification Report----------------------\n",
      "               precision    recall  f1-score   support\n",
      "\n",
      "           0       0.86      1.00      0.93       253\n",
      "           1       1.00      0.02      0.05        41\n",
      "\n",
      "    accuracy                           0.86       294\n",
      "   macro avg       0.93      0.51      0.49       294\n",
      "weighted avg       0.88      0.86      0.80       294\n",
      "\n",
      "----------------------Confusion Matrix----------------------\n",
      " [[253   0]\n",
      " [ 40   1]]\n"
     ]
    }
   ],
   "source": [
    "from sklearn.metrics import accuracy_score, confusion_matrix, classification_report\n",
    "\n",
    "print('Test Accuracy Score:', accuracy_score(y_test, lr_y_pred)*100, '%\\n')\n",
    "\n",
    "print('----------------------Classification Report----------------------\\n', classification_report(y_test, lr_y_pred))\n",
    "print('----------------------Confusion Matrix----------------------\\n', confusion_matrix(y_test, lr_y_pred))"
   ]
  },
  {
   "cell_type": "code",
   "execution_count": 76,
   "id": "1dc082ac",
   "metadata": {},
   "outputs": [
    {
     "data": {
      "text/html": [
       "<div>\n",
       "<style scoped>\n",
       "    .dataframe tbody tr th:only-of-type {\n",
       "        vertical-align: middle;\n",
       "    }\n",
       "\n",
       "    .dataframe tbody tr th {\n",
       "        vertical-align: top;\n",
       "    }\n",
       "\n",
       "    .dataframe thead th {\n",
       "        text-align: right;\n",
       "    }\n",
       "</style>\n",
       "<table border=\"1\" class=\"dataframe\">\n",
       "  <thead>\n",
       "    <tr style=\"text-align: right;\">\n",
       "      <th></th>\n",
       "      <th>0</th>\n",
       "      <th>1</th>\n",
       "      <th>2</th>\n",
       "      <th>3</th>\n",
       "      <th>4</th>\n",
       "      <th>5</th>\n",
       "      <th>6</th>\n",
       "      <th>7</th>\n",
       "      <th>8</th>\n",
       "      <th>9</th>\n",
       "    </tr>\n",
       "  </thead>\n",
       "  <tbody>\n",
       "    <tr>\n",
       "      <th>0</th>\n",
       "      <td>-1.101246</td>\n",
       "      <td>0.821714</td>\n",
       "      <td>-0.515162</td>\n",
       "      <td>0.041780</td>\n",
       "      <td>0.558014</td>\n",
       "      <td>1.155162</td>\n",
       "      <td>-0.686134</td>\n",
       "      <td>-1.540724</td>\n",
       "      <td>-0.959927</td>\n",
       "      <td>-0.820017</td>\n",
       "    </tr>\n",
       "    <tr>\n",
       "      <th>1</th>\n",
       "      <td>0.548799</td>\n",
       "      <td>0.821714</td>\n",
       "      <td>-2.420291</td>\n",
       "      <td>-1.923537</td>\n",
       "      <td>2.051128</td>\n",
       "      <td>0.250721</td>\n",
       "      <td>0.226641</td>\n",
       "      <td>-1.540724</td>\n",
       "      <td>-0.817081</td>\n",
       "      <td>-0.659615</td>\n",
       "    </tr>\n",
       "    <tr>\n",
       "      <th>2</th>\n",
       "      <td>-0.551231</td>\n",
       "      <td>-1.216969</td>\n",
       "      <td>-0.515162</td>\n",
       "      <td>1.024438</td>\n",
       "      <td>0.558014</td>\n",
       "      <td>-1.558161</td>\n",
       "      <td>1.139416</td>\n",
       "      <td>1.225523</td>\n",
       "      <td>-0.315629</td>\n",
       "      <td>-0.018004</td>\n",
       "    </tr>\n",
       "    <tr>\n",
       "      <th>3</th>\n",
       "      <td>1.538825</td>\n",
       "      <td>0.821714</td>\n",
       "      <td>1.389966</td>\n",
       "      <td>1.024438</td>\n",
       "      <td>-0.188544</td>\n",
       "      <td>0.250721</td>\n",
       "      <td>1.139416</td>\n",
       "      <td>1.225523</td>\n",
       "      <td>-0.233578</td>\n",
       "      <td>0.463203</td>\n",
       "    </tr>\n",
       "    <tr>\n",
       "      <th>4</th>\n",
       "      <td>-0.881240</td>\n",
       "      <td>0.821714</td>\n",
       "      <td>1.389966</td>\n",
       "      <td>0.041780</td>\n",
       "      <td>0.558014</td>\n",
       "      <td>0.250721</td>\n",
       "      <td>0.226641</td>\n",
       "      <td>1.225523</td>\n",
       "      <td>-0.142598</td>\n",
       "      <td>-0.338810</td>\n",
       "    </tr>\n",
       "  </tbody>\n",
       "</table>\n",
       "</div>"
      ],
      "text/plain": [
       "          0         1         2         3         4         5         6  \\\n",
       "0 -1.101246  0.821714 -0.515162  0.041780  0.558014  1.155162 -0.686134   \n",
       "1  0.548799  0.821714 -2.420291 -1.923537  2.051128  0.250721  0.226641   \n",
       "2 -0.551231 -1.216969 -0.515162  1.024438  0.558014 -1.558161  1.139416   \n",
       "3  1.538825  0.821714  1.389966  1.024438 -0.188544  0.250721  1.139416   \n",
       "4 -0.881240  0.821714  1.389966  0.041780  0.558014  0.250721  0.226641   \n",
       "\n",
       "          7         8         9  \n",
       "0 -1.540724 -0.959927 -0.820017  \n",
       "1 -1.540724 -0.817081 -0.659615  \n",
       "2  1.225523 -0.315629 -0.018004  \n",
       "3  1.225523 -0.233578  0.463203  \n",
       "4  1.225523 -0.142598 -0.338810  "
      ]
     },
     "execution_count": 76,
     "metadata": {},
     "output_type": "execute_result"
    }
   ],
   "source": [
    "pd.DataFrame(x_train).head()"
   ]
  },
  {
   "cell_type": "code",
   "execution_count": 75,
   "id": "890a241c",
   "metadata": {},
   "outputs": [
    {
     "name": "stdout",
     "output_type": "stream",
     "text": [
      "[[0.7748427 0.2251573]]\n"
     ]
    }
   ],
   "source": [
    "input = [[-0.657246, 0.813029, -0.503547, -0.878027, -0.909680, 1.161409, -1.560113, -0.144032, -0.908062, -0.494890]]\n",
    "print(lr.predict_proba(input))"
   ]
  }
 ],
 "metadata": {
  "kernelspec": {
   "display_name": "Python 3 (ipykernel)",
   "language": "python",
   "name": "python3"
  },
  "language_info": {
   "codemirror_mode": {
    "name": "ipython",
    "version": 3
   },
   "file_extension": ".py",
   "mimetype": "text/x-python",
   "name": "python",
   "nbconvert_exporter": "python",
   "pygments_lexer": "ipython3",
   "version": "3.9.12"
  }
 },
 "nbformat": 4,
 "nbformat_minor": 5
}
